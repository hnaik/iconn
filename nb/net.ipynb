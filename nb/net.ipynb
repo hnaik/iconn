{
 "cells": [
  {
   "cell_type": "code",
   "execution_count": 1,
   "metadata": {},
   "outputs": [],
   "source": [
    "import logging\n",
    "import math\n",
    "import matplotlib.pylab as plt                                                                                                                                                  \n",
    "import numpy as np                                                                                                                                                              \n",
    "import pandas as pd                                                                                                                                                            \n",
    "import torch                                                                                                                                                                 \n",
    "import torch.nn as nn                                                                                                                                                      \n",
    "import torch.optim as optim                                                                                                                                              \n",
    "import torchvision.transforms as transforms                                                                                                                        \n",
    "import sys                                                                                                                                                              \n",
    "                                                                                                                                                                         \n",
    "from argparse import ArgumentParser                                                                                                                                          \n",
    "from datetime import datetime                                                                                                                                          \n",
    "from pathlib import Path                                                                                                                                              \n",
    "from PIL import Image                                                                                                                                                     \n",
    "from sklearn import preprocessing                                                                                                                                          \n",
    "from sklearn.metrics import precision_recall_fscore_support                                                                                                               \n",
    "from sklearn.model_selection import train_test_split                                                                                                                        \n",
    "from torch.optim.lr_scheduler import StepLR                                                                                                                                 \n",
    "from torchvision import datasets, transforms                                                                                                                                 \n",
    "from torch.utils.data import Dataset, DataLoader                                                                                                                              \n",
    "from types import SimpleNamespace  \n",
    "\n",
    "import copy"
   ]
  },
  {
   "cell_type": "code",
   "execution_count": 2,
   "metadata": {},
   "outputs": [],
   "source": [
    "im_path = '/home/hnaik/data/qualia/2d_shapes/64x64/circles/green/r18-c38_d34_t3.png'"
   ]
  },
  {
   "cell_type": "code",
   "execution_count": 3,
   "metadata": {},
   "outputs": [],
   "source": [
    "trans = transforms.Compose([\n",
    "    transforms.ToTensor()\n",
    "])\n",
    "\n",
    "criterion = nn.BCELoss()\n",
    "im = Image.open(im_path)\n",
    "X = trans(im)\n",
    "X = X.unsqueeze(0)"
   ]
  },
  {
   "cell_type": "code",
   "execution_count": 4,
   "metadata": {},
   "outputs": [
    {
     "name": "stderr",
     "output_type": "stream",
     "text": [
      "/home/hnaik/.virtualenvs/iconn-yLpHbsxh/lib/python3.8/site-packages/torch/nn/modules/loss.py:516: UserWarning: Using a target size (torch.Size([4])) that is different to the input size (torch.Size([1, 4])) is deprecated. Please ensure they have the same size.\n",
      "  return F.binary_cross_entropy(input, target, weight=self.weight, reduction=self.reduction)\n"
     ]
    }
   ],
   "source": [
    "net = nn.Sequential(\n",
    "    nn.Conv2d(3, 32, kernel_size=5, padding=2),\n",
    "    nn.ReLU(inplace=True),\n",
    "    nn.MaxPool2d(kernel_size=3),\n",
    "    nn.Conv2d(32, 64, kernel_size=3, padding=1),\n",
    "    nn.ReLU(inplace=True),\n",
    "    nn.MaxPool2d(kernel_size=3),\n",
    "    nn.Flatten(),\n",
    "    nn.Linear(3136, 4),\n",
    "    nn.Sigmoid()\n",
    ")\n",
    "\n",
    "label = torch.tensor([0., 1., 0., 0.])\n",
    "output = net(X)\n",
    "\n",
    "loss = criterion(output, label)"
   ]
  },
  {
   "cell_type": "code",
   "execution_count": 5,
   "metadata": {},
   "outputs": [
    {
     "data": {
      "text/plain": [
       "Sequential(\n",
       "  (0): Conv2d(3, 32, kernel_size=(5, 5), stride=(1, 1), padding=(2, 2))\n",
       "  (1): ReLU(inplace=True)\n",
       "  (2): MaxPool2d(kernel_size=3, stride=3, padding=0, dilation=1, ceil_mode=False)\n",
       "  (3): Conv2d(32, 64, kernel_size=(3, 3), stride=(1, 1), padding=(1, 1))\n",
       "  (4): ReLU(inplace=True)\n",
       "  (5): MaxPool2d(kernel_size=3, stride=3, padding=0, dilation=1, ceil_mode=False)\n",
       "  (6): Flatten()\n",
       "  (7): Linear(in_features=3136, out_features=4, bias=True)\n",
       "  (8): Sigmoid()\n",
       ")"
      ]
     },
     "execution_count": 5,
     "metadata": {},
     "output_type": "execute_result"
    }
   ],
   "source": [
    "net"
   ]
  },
  {
   "cell_type": "code",
   "execution_count": 6,
   "metadata": {},
   "outputs": [],
   "source": [
    "loss.backward()"
   ]
  },
  {
   "cell_type": "code",
   "execution_count": 7,
   "metadata": {},
   "outputs": [
    {
     "data": {
      "text/plain": [
       "Sequential(\n",
       "  (0): Conv2d(3, 32, kernel_size=(5, 5), stride=(1, 1), padding=(2, 2))\n",
       "  (1): ReLU(inplace=True)\n",
       "  (2): MaxPool2d(kernel_size=3, stride=3, padding=0, dilation=1, ceil_mode=False)\n",
       "  (3): Conv2d(32, 64, kernel_size=(3, 3), stride=(1, 1), padding=(1, 1))\n",
       "  (4): ReLU(inplace=True)\n",
       "  (5): MaxPool2d(kernel_size=3, stride=3, padding=0, dilation=1, ceil_mode=False)\n",
       "  (6): Flatten()\n",
       "  (7): Linear(in_features=3136, out_features=4, bias=True)\n",
       "  (8): Sigmoid()\n",
       ")"
      ]
     },
     "execution_count": 7,
     "metadata": {},
     "output_type": "execute_result"
    }
   ],
   "source": [
    "net"
   ]
  },
  {
   "cell_type": "code",
   "execution_count": 38,
   "metadata": {},
   "outputs": [
    {
     "name": "stdout",
     "output_type": "stream",
     "text": [
      "['__class__', '__delattr__', '__dict__', '__dir__', '__doc__', '__eq__', '__format__', '__ge__', '__getattribute__', '__gt__', '__hash__', '__init__', '__init_subclass__', '__le__', '__lt__', '__module__', '__ne__', '__new__', '__reduce__', '__reduce_ex__', '__repr__', '__setattr__', '__sizeof__', '__str__', '__subclasshook__', '__weakref__', '_do_backward', '_forward_cls', '_is_legacy', '_register_hook', '_register_hook_dict', 'apply', 'dirty_tensors', 'mark_dirty', 'mark_non_differentiable', 'mark_shared_storage', 'metadata', 'needs_input_grad', 'next_functions', 'non_differentiable', 'register_hook', 'requires_grad', 'save_for_backward', 'saved_tensors', 'saved_variables', 'to_save']\n",
      "['__class__', '__delattr__', '__dict__', '__dir__', '__doc__', '__eq__', '__format__', '__ge__', '__getattribute__', '__gt__', '__hash__', '__init__', '__init_subclass__', '__le__', '__lt__', '__module__', '__ne__', '__new__', '__reduce__', '__reduce_ex__', '__repr__', '__setattr__', '__sizeof__', '__str__', '__subclasshook__', '__weakref__', '_do_backward', '_forward_cls', '_is_legacy', '_register_hook', '_register_hook_dict', 'apply', 'dirty_tensors', 'mark_dirty', 'mark_non_differentiable', 'mark_shared_storage', 'metadata', 'needs_input_grad', 'next_functions', 'non_differentiable', 'register_hook', 'requires_grad', 'save_for_backward', 'saved_tensors', 'saved_variables', 'to_save']\n"
     ]
    },
    {
     "data": {
      "text/plain": [
       "torch.Size([1, 4])"
      ]
     },
     "execution_count": 38,
     "metadata": {},
     "output_type": "execute_result"
    }
   ],
   "source": [
    "class IpAutograd(torch.autograd.Function):\n",
    "    template_dims = []\n",
    "    def __init__(self, n):\n",
    "        self.n = n\n",
    "        \n",
    "    @staticmethod\n",
    "    def forward(ctx, X):\n",
    "        print(dir(ctx))\n",
    "        ctx.save_for_backward(X)\n",
    "        ctx.template = 10\n",
    "        return X\n",
    "    \n",
    "    @staticmethod\n",
    "    def backward(ctx, grad_output):\n",
    "        X, = ctx.saved_tensors\n",
    "        grad_input = grad_output.clone()\n",
    "        print(grad_input.shape)\n",
    "        print(X.shape)\n",
    "        print(ctx.template)\n",
    "#         zt = 0\n",
    "#         for gi in grad_input:\n",
    "#             v, idx = gi.max(0)\n",
    "#             t = T[idx]\n",
    "#             zt += torch.exp((gi * t).sum())\n",
    "#         p_xt = 1 / zt * torch.exp(())\n",
    "        return grad_input\n",
    "    \n",
    "\n",
    "class Net(nn.Module):\n",
    "    def __init__(self):\n",
    "        super().__init__()\n",
    "        self.stage_1 = nn.Sequential(\n",
    "            nn.Conv2d(3, 32, kernel_size=5, padding=2),\n",
    "            nn.ReLU(inplace=True)\n",
    "        )\n",
    "        \n",
    "        self.max_pool = nn.MaxPool2d(kernel_size=3)\n",
    "        \n",
    "        self.stage_2 = nn.Sequential(\n",
    "            nn.Conv2d(32, 64, kernel_size=3, padding=1),\n",
    "            nn.ReLU(inplace=True)\n",
    "        )\n",
    "        \n",
    "        IpAutograd.template_dims = [64, 21]\n",
    "        \n",
    "        self.autograd = IpAutograd(10).apply\n",
    "        \n",
    "        self.classifier = nn.Sequential(\n",
    "            nn.Flatten(),\n",
    "            nn.Linear(3136, 4),\n",
    "            nn.Sigmoid()\n",
    "        )\n",
    "    def forward(self, X):\n",
    "        X = self.max_pool(self.autograd(self.stage_1(X)))\n",
    "        X = self.max_pool(self.autograd(self.stage_2(X)))\n",
    "        return self.classifier(X)\n",
    "\n",
    "\n",
    "inet = Net()\n",
    "output = inet(X)\n",
    "\n",
    "output.shape"
   ]
  },
  {
   "cell_type": "code",
   "execution_count": 23,
   "metadata": {},
   "outputs": [
    {
     "name": "stdout",
     "output_type": "stream",
     "text": [
      "torch.Size([1, 64, 21, 21])\n",
      "torch.Size([1, 64, 21, 21])\n",
      "10\n",
      "torch.Size([1, 32, 64, 64])\n",
      "torch.Size([1, 32, 64, 64])\n",
      "10\n"
     ]
    }
   ],
   "source": [
    "loss = criterion(output, label)\n",
    "loss.backward()"
   ]
  },
  {
   "cell_type": "code",
   "execution_count": 12,
   "metadata": {},
   "outputs": [],
   "source": [
    "# for im in output[0]:\n",
    "#     plt.imshow(im.detach().numpy(), cmap='gray')\n",
    "#     plt.show()"
   ]
  },
  {
   "cell_type": "code",
   "execution_count": 13,
   "metadata": {},
   "outputs": [
    {
     "name": "stdout",
     "output_type": "stream",
     "text": [
      "1365 64 21 21 tensor([35, 32, 56, 54, 46, 18, 43, 60,  9, 50, 40,  8, 41, 37, 15, 41, 62, 35,\n",
      "        12, 59, 60, 21, 62, 29, 15,  5, 14, 41, 29, 18, 40, 33, 48, 23, 37, 19,\n",
      "         2, 23,  3, 45, 37, 49, 27, 24, 33, 22, 44, 41, 15, 36, 20, 42, 26, 27,\n",
      "        21, 57,  5, 50, 16, 42, 51, 15, 10,  4])\n",
      "100.0\n"
     ]
    }
   ],
   "source": [
    "# z = np.random.rand(64 * 64).reshape([64, 64])\n",
    "# x = copy.deepcopy(output[0][0].detach().numpy())\n",
    "n = 64\n",
    "x = np.random.rand(n * n).reshape([n, n])\n",
    "x[n // 3, n // 3] = 100.0\n",
    "# z = output[0][0].detach().numpy()\n",
    "tau = 255\n",
    "beta = 0.25\n",
    "am = np.argmax(x)\n",
    "t_idx = torch.argmax(torch.from_numpy(x).squeeze(-1), dim=1)\n",
    "n = len(x[0])\n",
    "u_i = am // n\n",
    "u_j = am % n\n",
    "print(am, n, u_i, u_j, t_idx)\n",
    "u = (u_i, u_j)\n",
    "print(x[u_i, u_j])\n",
    "\n",
    "def norm_1(x1, x2):\n",
    "    return abs(x1[0] - x2[0]) + abs(x1[1] - x2[1])\n",
    "\n",
    "def norm_2(x1, x2):\n",
    "    return np.sqrt(math.pow((x1[0] - x2[0]), 2) + math.pow((x1[1] - x2[1]), 2))\n",
    "\n",
    "# u = (13, 7)"
   ]
  },
  {
   "cell_type": "code",
   "execution_count": 14,
   "metadata": {},
   "outputs": [
    {
     "data": {
      "image/png": "[encoded data removed]",
      "text/plain": [
       "<Figure size 432x288 with 1 Axes>"
      ]
     },
     "metadata": {
      "needs_background": "light"
     },
     "output_type": "display_data"
    },
    {
     "data": {
      "image/png": "[encoded data removed]",
      "text/plain": [
       "<Figure size 432x288 with 1 Axes>"
      ]
     },
     "metadata": {
      "needs_background": "light"
     },
     "output_type": "display_data"
    },
    {
     "data": {
      "image/png": "[encoded data removed]",
      "text/plain": [
       "<Figure size 432x288 with 1 Axes>"
      ]
     },
     "metadata": {
      "needs_background": "light"
     },
     "output_type": "display_data"
    },
    {
     "data": {
      "image/png": "[encoded data removed]",
      "text/plain": [
       "<Figure size 432x288 with 1 Axes>"
      ]
     },
     "metadata": {
      "needs_background": "light"
     },
     "output_type": "display_data"
    },
    {
     "data": {
      "image/png": "[encoded data removed]",
      "text/plain": [
       "<Figure size 432x288 with 1 Axes>"
      ]
     },
     "metadata": {
      "needs_background": "light"
     },
     "output_type": "display_data"
    },
    {
     "data": {
      "image/png": "[encoded data removed]",
      "text/plain": [
       "<Figure size 432x288 with 1 Axes>"
      ]
     },
     "metadata": {
      "needs_background": "light"
     },
     "output_type": "display_data"
    }
   ],
   "source": [
    "T_1 = np.zeros([n, n])\n",
    "T_2 = np.zeros([n, n])\n",
    "T_neg = np.zeros([n, n])\n",
    "\n",
    "def compute(p, u, norm_func):\n",
    "    x = 0.005 - beta * norm_func(p, u) / n\n",
    "    return np.sqrt(tau * np.max(0.005 - x, -1))\n",
    "    \n",
    "    \n",
    "for i in range(n):\n",
    "    for j in range(n):\n",
    "        T_1[i, j] = compute((i, j), u, norm_1)\n",
    "        T_2[i, j] = compute((i, j), u, norm_2)\n",
    "  \n",
    "T_neg.fill(-tau)\n",
    "\n",
    "def show(im):\n",
    "    plt.imshow(im, cmap='gray_r')\n",
    "    plt.axis('off')\n",
    "    plt.tight_layout()\n",
    "    plt.show()\n",
    "\n",
    "show(T_1)\n",
    "show(T_2)\n",
    "show(T_neg)\n",
    "show(T_1 * x)\n",
    "show(T_2 * x)\n",
    "show(T_neg * x)"
   ]
  },
  {
   "cell_type": "code",
   "execution_count": null,
   "metadata": {},
   "outputs": [],
   "source": [
    "plt.imshow(x, cmap='gray')\n",
    "plt.show()"
   ]
  },
  {
   "cell_type": "code",
   "execution_count": null,
   "metadata": {},
   "outputs": [],
   "source": [
    "xx = x * T_1\n",
    "\n",
    "plt.imshow(xx, cmap='gray')\n",
    "plt.show()"
   ]
  },
  {
   "cell_type": "code",
   "execution_count": null,
   "metadata": {},
   "outputs": [],
   "source": [
    "for x in inet.parameters():\n",
    "    print(x.shape)\n",
    "    \n",
    "output.shape"
   ]
  },
  {
   "cell_type": "code",
   "execution_count": null,
   "metadata": {},
   "outputs": [],
   "source": [
    "a = torch.tensor([[1, 2], [3, 4]])\n",
    "b = torch.tensor([[2, 2], [2, 2]])\n",
    "\n",
    "a * b"
   ]
  },
  {
   "cell_type": "code",
   "execution_count": null,
   "metadata": {},
   "outputs": [],
   "source": [
    "x = torch.zeros([3, 3])\n",
    "\n",
    "x.assign(-tau)"
   ]
  },
  {
   "cell_type": "code",
   "execution_count": null,
   "metadata": {},
   "outputs": [],
   "source": [
    "class ClassA:\n",
    "    @staticmethod\n",
    "    def helper(X):\n",
    "        print(f'ClassA {X*X}')\n",
    "        \n",
    "    \n",
    "class ClassB(ClassA):\n",
    "    @staticmethod\n",
    "    def helper(X):\n",
    "        print(f'ClassB {X}')\n",
    "        ClassA.helper(X)\n",
    "        \n",
    "class ClassC(ClassB):\n",
    "    ...\n",
    "        \n",
    "ClassC.helper(10)"
   ]
  },
  {
   "cell_type": "code",
   "execution_count": null,
   "metadata": {},
   "outputs": [],
   "source": []
  }
 ],
 "metadata": {
  "kernelspec": {
   "display_name": "Python 3",
   "language": "python",
   "name": "python3"
  },
  "language_info": {
   "codemirror_mode": {
    "name": "ipython",
    "version": 3
   },
   "file_extension": ".py",
   "mimetype": "text/x-python",
   "name": "python",
   "nbconvert_exporter": "python",
   "pygments_lexer": "ipython3",
   "version": "3.8.2"
  }
 },
 "nbformat": 4,
 "nbformat_minor": 4
}

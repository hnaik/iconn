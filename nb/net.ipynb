{
 "cells": [
  {
   "cell_type": "code",
   "execution_count": 12,
   "metadata": {},
   "outputs": [],
   "source": [
    "import logging\n",
    "import math\n",
    "import matplotlib.pylab as plt                                                                                                                                                  \n",
    "import numpy as np                                                                                                                                                              \n",
    "import pandas as pd                                                                                                                                                            \n",
    "import torch                                                                                                                                                                 \n",
    "import torch.nn as nn                                                                                                                                                      \n",
    "import torch.optim as optim                                                                                                                                              \n",
    "import torchvision.transforms as transforms                                                                                                                        \n",
    "import sys                                                                                                                                                              \n",
    "                                                                                                                                                                         \n",
    "from argparse import ArgumentParser                                                                                                                                          \n",
    "from datetime import datetime                                                                                                                                          \n",
    "from pathlib import Path                                                                                                                                              \n",
    "from PIL import Image                                                                                                                                                     \n",
    "from sklearn import preprocessing                                                                                                                                          \n",
    "from sklearn.metrics import precision_recall_fscore_support                                                                                                               \n",
    "from sklearn.model_selection import train_test_split                                                                                                                        \n",
    "from torch.optim.lr_scheduler import StepLR                                                                                                                                 \n",
    "from torchvision import datasets, transforms                                                                                                                                 \n",
    "from torch.utils.data import Dataset, DataLoader                                                                                                                              \n",
    "from types import SimpleNamespace  \n",
    "\n",
    "import copy"
   ]
  },
  {
   "cell_type": "code",
   "execution_count": 2,
   "metadata": {},
   "outputs": [],
   "source": [
    "im_path = '/home/hnaik/data/qualia/2d_shapes/64x64/circles/green/r18-c38_d34_t3.png'"
   ]
  },
  {
   "cell_type": "code",
   "execution_count": 3,
   "metadata": {},
   "outputs": [],
   "source": [
    "trans = transforms.Compose([\n",
    "    transforms.ToTensor()\n",
    "])\n",
    "\n",
    "criterion = nn.BCELoss()\n",
    "im = Image.open(im_path)\n",
    "X = trans(im)\n",
    "X = X.unsqueeze(0)"
   ]
  },
  {
   "cell_type": "code",
   "execution_count": 4,
   "metadata": {},
   "outputs": [
    {
     "name": "stderr",
     "output_type": "stream",
     "text": [
      "/home/hnaik/.virtualenvs/iconn-yLpHbsxh/lib/python3.8/site-packages/torch/nn/modules/loss.py:516: UserWarning: Using a target size (torch.Size([4])) that is different to the input size (torch.Size([1, 4])) is deprecated. Please ensure they have the same size.\n",
      "  return F.binary_cross_entropy(input, target, weight=self.weight, reduction=self.reduction)\n"
     ]
    }
   ],
   "source": [
    "net = nn.Sequential(\n",
    "    nn.Conv2d(3, 32, kernel_size=5, padding=2),\n",
    "    nn.ReLU(inplace=True),\n",
    "    nn.MaxPool2d(kernel_size=3),\n",
    "    nn.Conv2d(32, 64, kernel_size=3, padding=1),\n",
    "    nn.ReLU(inplace=True),\n",
    "    nn.MaxPool2d(kernel_size=3),\n",
    "    nn.Flatten(),\n",
    "    nn.Linear(3136, 4),\n",
    "    nn.Sigmoid()\n",
    ")\n",
    "\n",
    "label = torch.tensor([0., 1., 0., 0.])\n",
    "output = net(X)\n",
    "\n",
    "loss = criterion(output, label)"
   ]
  },
  {
   "cell_type": "code",
   "execution_count": 5,
   "metadata": {},
   "outputs": [
    {
     "data": {
      "text/plain": [
       "Sequential(\n",
       "  (0): Conv2d(3, 32, kernel_size=(5, 5), stride=(1, 1), padding=(2, 2))\n",
       "  (1): ReLU(inplace=True)\n",
       "  (2): MaxPool2d(kernel_size=3, stride=3, padding=0, dilation=1, ceil_mode=False)\n",
       "  (3): Conv2d(32, 64, kernel_size=(3, 3), stride=(1, 1), padding=(1, 1))\n",
       "  (4): ReLU(inplace=True)\n",
       "  (5): MaxPool2d(kernel_size=3, stride=3, padding=0, dilation=1, ceil_mode=False)\n",
       "  (6): Flatten()\n",
       "  (7): Linear(in_features=3136, out_features=4, bias=True)\n",
       "  (8): Sigmoid()\n",
       ")"
      ]
     },
     "execution_count": 5,
     "metadata": {},
     "output_type": "execute_result"
    }
   ],
   "source": [
    "net"
   ]
  },
  {
   "cell_type": "code",
   "execution_count": 6,
   "metadata": {},
   "outputs": [],
   "source": [
    "loss.backward()"
   ]
  },
  {
   "cell_type": "code",
   "execution_count": 7,
   "metadata": {},
   "outputs": [
    {
     "data": {
      "text/plain": [
       "Sequential(\n",
       "  (0): Conv2d(3, 32, kernel_size=(5, 5), stride=(1, 1), padding=(2, 2))\n",
       "  (1): ReLU(inplace=True)\n",
       "  (2): MaxPool2d(kernel_size=3, stride=3, padding=0, dilation=1, ceil_mode=False)\n",
       "  (3): Conv2d(32, 64, kernel_size=(3, 3), stride=(1, 1), padding=(1, 1))\n",
       "  (4): ReLU(inplace=True)\n",
       "  (5): MaxPool2d(kernel_size=3, stride=3, padding=0, dilation=1, ceil_mode=False)\n",
       "  (6): Flatten()\n",
       "  (7): Linear(in_features=3136, out_features=4, bias=True)\n",
       "  (8): Sigmoid()\n",
       ")"
      ]
     },
     "execution_count": 7,
     "metadata": {},
     "output_type": "execute_result"
    }
   ],
   "source": [
    "net"
   ]
  },
  {
   "cell_type": "code",
   "execution_count": 41,
   "metadata": {},
   "outputs": [
    {
     "data": {
      "text/plain": [
       "torch.Size([1, 4])"
      ]
     },
     "execution_count": 41,
     "metadata": {},
     "output_type": "execute_result"
    }
   ],
   "source": [
    "class IpAutograd(torch.autograd.Function):\n",
    "    @staticmethod\n",
    "    def forward(ctx, X):\n",
    "        ctx.save_for_backward(X)\n",
    "        ctx.template = 10\n",
    "        return X\n",
    "    \n",
    "    @staticmethod\n",
    "    def backward(ctx, grad_output):\n",
    "        X, = ctx.saved_tensors\n",
    "        grad_input = grad_output.clone()\n",
    "        print(grad_input.shape)\n",
    "        print(X.shape)\n",
    "        print(ctx.template)\n",
    "#         zt = 0\n",
    "#         for gi in grad_input:\n",
    "#             v, idx = gi.max(0)\n",
    "#             t = T[idx]\n",
    "#             zt += torch.exp((gi * t).sum())\n",
    "#         p_xt = 1 / zt * torch.exp(())\n",
    "        return grad_input\n",
    "    \n",
    "\n",
    "class Net(nn.Module):\n",
    "    def __init__(self):\n",
    "        super().__init__()\n",
    "        self.stage_1 = nn.Sequential(\n",
    "            nn.Conv2d(3, 32, kernel_size=5, padding=2),\n",
    "            nn.ReLU(inplace=True)\n",
    "        )\n",
    "        \n",
    "        self.max_pool = nn.MaxPool2d(kernel_size=3)\n",
    "        \n",
    "        self.stage_2 = nn.Sequential(\n",
    "            nn.Conv2d(32, 64, kernel_size=3, padding=1),\n",
    "            nn.ReLU(inplace=True)    Frame Title\n",
    "        )\n",
    "        \n",
    "        self.classifier = nn.Sequential(\n",
    "            nn.Flatten(),\n",
    "            nn.Linear(3136, 4),\n",
    "            nn.Sigmoid()\n",
    "        )\n",
    "    def forward(self, X):\n",
    "        X = self.max_pool(IpAutograd.apply(self.stage_1(X)))\n",
    "        X = self.max_pool(IpAutograd.apply(self.stage_2(X)))\n",
    "        return self.classifier(X)\n",
    "\n",
    "\n",
    "inet = Net()\n",
    "output = inet(X)\n",
    "\n",
    "output.shape"
   ]
  },
  {
   "cell_type": "code",
   "execution_count": 42,
   "metadata": {},
   "outputs": [
    {
     "name": "stdout",
     "output_type": "stream",
     "text": [
      "torch.Size([1, 64, 21, 21])\n",
      "torch.Size([1, 64, 21, 21])\n",
      "10\n",
      "torch.Size([1, 32, 64, 64])\n",
      "torch.Size([1, 32, 64, 64])\n",
      "10\n"
     ]
    }
   ],
   "source": [
    "loss = criterion(output, label)\n",
    "loss.backward()"
   ]
  },
  {
   "cell_type": "code",
   "execution_count": null,
   "metadata": {},
   "outputs": [],
   "source": [
    "# for im in output[0]:\n",
    "#     plt.imshow(im.detach().numpy(), cmap='gray')\n",
    "#     plt.show()"
   ]
  },
  {
   "cell_type": "code",
   "execution_count": 34,
   "metadata": {},
   "outputs": [
    {
     "name": "stdout",
     "output_type": "stream",
     "text": [
      "1365 64 21 21 tensor([ 5, 11, 23, 46, 12, 37, 29, 47, 53, 40, 18, 33, 27,  3, 39, 58, 43, 27,\n",
      "        42, 47, 16, 21,  9, 52, 20, 23, 63, 44,  3, 35,  1, 58, 32, 19, 22, 54,\n",
      "        36, 17, 43, 19, 18, 34,  4, 21, 31, 39, 37,  4, 60, 49, 46, 41, 39, 37,\n",
      "         3, 34, 54, 41, 52, 19,  0, 61,  6, 30])\n",
      "100.0\n"
     ]
    }
   ],
   "source": [
    "# z = np.random.rand(64 * 64).reshape([64, 64])\n",
    "# x = copy.deepcopy(output[0][0].detach().numpy())\n",
    "n = 64\n",
    "x = np.random.rand(n * n).reshape([n, n])\n",
    "x[n // 3, n // 3] = 100.0\n",
    "# z = output[0][0].detach().numpy()\n",
    "tau = 255\n",
    "beta = 0.25\n",
    "am = np.argmax(x)\n",
    "t_idx = torch.argmax(torch.from_numpy(x).squeeze(-1), dim=1)\n",
    "n = len(x[0])\n",
    "u_i = am // n\n",
    "u_j = am % n\n",
    "print(am, n, u_i, u_j, t_idx)\n",
    "u = (u_i, u_j)\n",
    "print(x[u_i, u_j])\n",
    "\n",
    "def norm_1(x1, x2):\n",
    "    return abs(x1[0] - x2[0]) + abs(x1[1] - x2[1])\n",
    "\n",
    "def norm_2(x1, x2):\n",
    "    return np.sqrt(math.pow((x1[0] - x2[0]), 2) + math.pow((x1[1] - x2[1]), 2))\n",
    "\n",
    "# u = (13, 7)"
   ]
  },
  {
   "cell_type": "code",
   "execution_count": 66,
   "metadata": {},
   "outputs": [
    {
     "data": {
      "image/png": "[encoded data removed]",
      "text/plain": [
       "<Figure size 432x288 with 1 Axes>"
      ]
     },
     "metadata": {
      "needs_background": "light"
     },
     "output_type": "display_data"
    },
    {
     "data": {
      "image/png": "[encoded data removed]",
      "text/plain": [
       "<Figure size 432x288 with 1 Axes>"
      ]
     },
     "metadata": {
      "needs_background": "light"
     },
     "output_type": "display_data"
    },
    {
     "data": {
      "image/png": "[encoded data removed]",
      "text/plain": [
       "<Figure size 432x288 with 1 Axes>"
      ]
     },
     "metadata": {
      "needs_background": "light"
     },
     "output_type": "display_data"
    },
    {
     "ename": "TypeError",
     "evalue": "unsupported operand type(s) for *: 'numpy.ndarray' and 'Tensor'",
     "output_type": "error",
     "traceback": [
      "\u001b[0;31m---------------------------------------------------------------------------\u001b[0m",
      "\u001b[0;31mTypeError\u001b[0m                                 Traceback (most recent call last)",
      "\u001b[0;32m<ipython-input-66-61d743172835>\u001b[0m in \u001b[0;36m<module>\u001b[0;34m\u001b[0m\n\u001b[1;32m     24\u001b[0m \u001b[0mshow\u001b[0m\u001b[0;34m(\u001b[0m\u001b[0mT_2\u001b[0m\u001b[0;34m)\u001b[0m\u001b[0;34m\u001b[0m\u001b[0;34m\u001b[0m\u001b[0m\n\u001b[1;32m     25\u001b[0m \u001b[0mshow\u001b[0m\u001b[0;34m(\u001b[0m\u001b[0mT_neg\u001b[0m\u001b[0;34m)\u001b[0m\u001b[0;34m\u001b[0m\u001b[0;34m\u001b[0m\u001b[0m\n\u001b[0;32m---> 26\u001b[0;31m \u001b[0mshow\u001b[0m\u001b[0;34m(\u001b[0m\u001b[0mT_1\u001b[0m \u001b[0;34m*\u001b[0m \u001b[0mx\u001b[0m\u001b[0;34m)\u001b[0m\u001b[0;34m\u001b[0m\u001b[0;34m\u001b[0m\u001b[0m\n\u001b[0m\u001b[1;32m     27\u001b[0m \u001b[0mshow\u001b[0m\u001b[0;34m(\u001b[0m\u001b[0mT_2\u001b[0m \u001b[0;34m*\u001b[0m \u001b[0mx\u001b[0m\u001b[0;34m)\u001b[0m\u001b[0;34m\u001b[0m\u001b[0;34m\u001b[0m\u001b[0m\n\u001b[1;32m     28\u001b[0m \u001b[0mshow\u001b[0m\u001b[0;34m(\u001b[0m\u001b[0mT_neg\u001b[0m \u001b[0;34m*\u001b[0m \u001b[0mx\u001b[0m\u001b[0;34m)\u001b[0m\u001b[0;34m\u001b[0m\u001b[0;34m\u001b[0m\u001b[0m\n",
      "\u001b[0;31mTypeError\u001b[0m: unsupported operand type(s) for *: 'numpy.ndarray' and 'Tensor'"
     ]
    }
   ],
   "source": [
    "T_1 = np.zeros([n, n])\n",
    "T_2 = np.zeros([n, n])\n",
    "T_neg = np.zeros([n, n])\n",
    "\n",
    "def compute(p, u, norm_func):\n",
    "    x = 0.005 - beta * norm_func(p, u) / n\n",
    "    return np.sqrt(tau * np.max(0.005 - x, -1))\n",
    "    \n",
    "    \n",
    "for i in range(n):\n",
    "    for j in range(n):\n",
    "        T_1[i, j] = compute((i, j), u, norm_1)\n",
    "        T_2[i, j] = compute((i, j), u, norm_2)\n",
    "  \n",
    "T_neg.fill(-tau)\n",
    "\n",
    "def show(im):\n",
    "    plt.imshow(im, cmap='gray_r')\n",
    "    plt.axis('off')\n",
    "    plt.tight_layout()\n",
    "    plt.show()\n",
    "\n",
    "show(T_1)\n",
    "show(T_2)\n",
    "show(T_neg)\n",
    "show(T_1 * x)\n",
    "show(T_2 * x)\n",
    "show(T_neg * x)"
   ]
  },
  {
   "cell_type": "code",
   "execution_count": null,
   "metadata": {},
   "outputs": [],
   "source": [
    "plt.imshow(x, cmap='gray')\n",
    "plt.show()"
   ]
  },
  {
   "cell_type": "code",
   "execution_count": null,
   "metadata": {},
   "outputs": [],
   "source": [
    "xx = x * T_1\n",
    "\n",
    "plt.imshow(xx, cmap='gray')\n",
    "plt.show()"
   ]
  },
  {
   "cell_type": "code",
   "execution_count": null,
   "metadata": {},
   "outputs": [],
   "source": [
    "for x in inet.parameters():\n",
    "    print(x.shape)\n",
    "    \n",
    "output.shape"
   ]
  },
  {
   "cell_type": "code",
   "execution_count": 36,
   "metadata": {},
   "outputs": [
    {
     "data": {
      "text/plain": [
       "tensor([[2, 4],\n",
       "        [6, 8]])"
      ]
     },
     "execution_count": 36,
     "metadata": {},
     "output_type": "execute_result"
    }
   ],
   "source": [
    "a = torch.tensor([[1, 2], [3, 4]])\n",
    "b = torch.tensor([[2, 2], [2, 2]])\n",
    "\n",
    "a * b"
   ]
  },
  {
   "cell_type": "code",
   "execution_count": 52,
   "metadata": {},
   "outputs": [
    {
     "ename": "AttributeError",
     "evalue": "'Tensor' object has no attribute 'assign'",
     "output_type": "error",
     "traceback": [
      "\u001b[0;31m---------------------------------------------------------------------------\u001b[0m",
      "\u001b[0;31mAttributeError\u001b[0m                            Traceback (most recent call last)",
      "\u001b[0;32m<ipython-input-52-08788eb07ddb>\u001b[0m in \u001b[0;36m<module>\u001b[0;34m\u001b[0m\n\u001b[1;32m      1\u001b[0m \u001b[0mx\u001b[0m \u001b[0;34m=\u001b[0m \u001b[0mtorch\u001b[0m\u001b[0;34m.\u001b[0m\u001b[0mzeros\u001b[0m\u001b[0;34m(\u001b[0m\u001b[0;34m[\u001b[0m\u001b[0;36m3\u001b[0m\u001b[0;34m,\u001b[0m \u001b[0;36m3\u001b[0m\u001b[0;34m]\u001b[0m\u001b[0;34m)\u001b[0m\u001b[0;34m\u001b[0m\u001b[0;34m\u001b[0m\u001b[0m\n\u001b[1;32m      2\u001b[0m \u001b[0;34m\u001b[0m\u001b[0m\n\u001b[0;32m----> 3\u001b[0;31m \u001b[0mx\u001b[0m\u001b[0;34m.\u001b[0m\u001b[0massign\u001b[0m\u001b[0;34m(\u001b[0m\u001b[0;34m-\u001b[0m\u001b[0mtau\u001b[0m\u001b[0;34m)\u001b[0m\u001b[0;34m\u001b[0m\u001b[0;34m\u001b[0m\u001b[0m\n\u001b[0m",
      "\u001b[0;31mAttributeError\u001b[0m: 'Tensor' object has no attribute 'assign'"
     ]
    }
   ],
   "source": [
    "x = torch.zeros([3, 3])\n",
    "\n",
    "x.assign(-tau)"
   ]
  },
  {
   "cell_type": "code",
   "execution_count": 48,
   "metadata": {},
   "outputs": [
    {
     "name": "stdout",
     "output_type": "stream",
     "text": [
      "ClassB 10\n",
      "ClassA 100\n"
     ]
    }
   ],
   "source": [
    "class ClassA:\n",
    "    @staticmethod\n",
    "    def helper(X):\n",
    "        print(f'ClassA {X*X}')\n",
    "        \n",
    "    \n",
    "class ClassB(ClassA):\n",
    "    @staticmethod\n",
    "    def helper(X):\n",
    "        print(f'ClassB {X}')\n",
    "        ClassA.helper(X)\n",
    "        \n",
    "class ClassC(ClassB):\n",
    "    ...\n",
    "        \n",
    "ClassC.helper(10)"
   ]
  },
  {
   "cell_type": "code",
   "execution_count": null,
   "metadata": {},
   "outputs": [],
   "source": []
  }
 ],
 "metadata": {
  "kernelspec": {
   "display_name": "Python 3",
   "language": "python",
   "name": "python3"
  },
  "language_info": {
   "codemirror_mode": {
    "name": "ipython",
    "version": 3
   },
   "file_extension": ".py",
   "mimetype": "text/x-python",
   "name": "python",
   "nbconvert_exporter": "python",
   "pygments_lexer": "ipython3",
   "version": "3.8.2"
  }
 },
 "nbformat": 4,
 "nbformat_minor": 4
}
